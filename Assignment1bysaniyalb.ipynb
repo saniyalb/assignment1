{
  "nbformat": 4,
  "nbformat_minor": 0,
  "metadata": {
    "colab": {
      "name": "Assignment1bysaniyalb.ipynb",
      "provenance": []
    },
    "kernelspec": {
      "name": "python3",
      "display_name": "Python 3"
    },
    "language_info": {
      "name": "python"
    }
  },
  "cells": [
    {
      "cell_type": "markdown",
      "source": [
        "#Problem Statement1: Write a Python program to multiply a M×N matrix by N×A matrix and create a real matrix product.\n",
        "M=5,N=3,A=2"
      ],
      "metadata": {
        "id": "03p0Anhg9yl7"
      }
    },
    {
      "cell_type": "code",
      "execution_count": 28,
      "metadata": {
        "colab": {
          "base_uri": "https://localhost:8080/"
        },
        "id": "dbqxJ_819wux",
        "outputId": "30bf6e56-d513-459c-c2ad-9e7d7428486f"
      },
      "outputs": [
        {
          "output_type": "stream",
          "name": "stdout",
          "text": [
            "First array: \n",
            "[[0.27522567 0.63923076 0.62389921]\n",
            " [0.77804231 0.47811353 0.95913389]\n",
            " [0.99743421 0.83251328 0.20384505]\n",
            " [0.13405    0.61501462 0.59298706]\n",
            " [0.64478049 0.98872053 0.33516261]]\n",
            "Second array: \n",
            "[[0.80851882 0.67091492]\n",
            " [0.53814006 0.06950879]\n",
            " [0.08950123 0.87179229]]\n",
            "Dot product of two arrays: \n",
            "[[0.62236056 0.77299569]\n",
            " [0.97219756 1.39139882]\n",
            " [1.27269746 0.90477103]\n",
            " [0.49241902 0.64964662]\n",
            " [1.08338476 0.79350981]]\n"
          ]
        }
      ],
      "source": [
        "import numpy as np\n",
        "np.random.seed(82)\n",
        "x=np.random.random((5,3))\n",
        "print(\"First array: \")\n",
        "print(x)\n",
        "y=np.random.random((3,2))\n",
        "print(\"Second array: \")\n",
        "print(y)\n",
        "z=np.dot(x,y)\n",
        "print(\"Dot product of two arrays: \")\n",
        "print(z)\n"
      ]
    },
    {
      "cell_type": "markdown",
      "source": [
        "#Problem Statement2:Write a NumPy program to check if each element of an array of your choice is composed of digits, lower case letters, and upper case letters only.\n",
        " Hint:You can use isdigit(),islower(), and isupper() function.\n",
        "Input: Original Array: ['Python' 'PHP' 'JS' 'Examples' 'html5' '5']\n",
        "Output: Digits only = [False False False False False  True]\n",
        "        Lower cases only = [False False False False  True False]\n",
        "        Upper cases only = [False  True  True False False False]\n"
      ],
      "metadata": {
        "id": "-ZKY8kwVEKlM"
      }
    },
    {
      "cell_type": "code",
      "source": [
        "import numpy as np\n",
        "x=np.array(['Python','PHP','JS','Examples','html','5'])\n",
        "print(\"Original array: \")\n",
        "print(x)\n",
        "s1=np.char.isdigit(x)\n",
        "print(\"Digits only:\",s1)\n",
        "s2=np.char.islower(x)\n",
        "print(\"Lower cases only: \",s2)\n",
        "s3=np.char.isupper(x)\n",
        "print(\"Upper case only: \",s3)"
      ],
      "metadata": {
        "colab": {
          "base_uri": "https://localhost:8080/"
        },
        "id": "4ACg65dSGU2m",
        "outputId": "38c9f7cf-4e17-4611-e8ce-768a11a404ad"
      },
      "execution_count": 30,
      "outputs": [
        {
          "output_type": "stream",
          "name": "stdout",
          "text": [
            "Original array: \n",
            "['Python' 'PHP' 'JS' 'Examples' 'html' '5']\n",
            "Digits only: [False False False False False  True]\n",
            "Lower cases only:  [False False False False  True False]\n",
            "Upper case only:  [False  True  True False False False]\n"
          ]
        }
      ]
    },
    {
      "cell_type": "markdown",
      "source": [
        "#Problem Statement3:Write a program thatreads two space-separated positive integers X and Y as input and perform the following tasks:\n",
        "Tasks to be performed:\n",
        "1.Create a list (lst1) starting at one (1) with 16 elements at a step of X\n",
        "2.Create a list (lst2) starting at one (1) with 16 elements at a step of Y\n",
        "3.Create two NumPy arrays np1 and np2 using lst1 and lst2 respectively\n",
        "4.Reshape both the NumPy arrays to (4,4)\n",
        "5.Create a new np array (np3) with values obtained by subtracting both the arrays (np1 -np2)\n",
        "6.Print all the elements of np3 in a single dimension list like the format as shown below:\n",
        "a.[n0 n1 n2 n3 n4 n5 n6 n7 n8]"
      ],
      "metadata": {
        "id": "EXUDCGiIJMRw"
      }
    },
    {
      "cell_type": "code",
      "source": [
        "import numpy as np"
      ],
      "metadata": {
        "id": "qrwqcNGiz2Ax"
      },
      "execution_count": 75,
      "outputs": []
    },
    {
      "cell_type": "code",
      "source": [
        "#step1:Create a list (lst1) starting at one (1) with 16 elements at a step of X\n",
        "x=int(input())\n",
        "stop1=(16*x)+1\n",
        "lst1=np.arange(1,stop1,x)\n",
        "print(\"lst1\",lst1)\n",
        "\n"
      ],
      "metadata": {
        "colab": {
          "base_uri": "https://localhost:8080/"
        },
        "id": "v0tha3A20Cfz",
        "outputId": "507e0753-28e4-42b0-cb3d-0e8df8dc97f3"
      },
      "execution_count": 79,
      "outputs": [
        {
          "output_type": "stream",
          "name": "stdout",
          "text": [
            "7\n",
            "lst1 [  1   8  15  22  29  36  43  50  57  64  71  78  85  92  99 106]\n"
          ]
        }
      ]
    },
    {
      "cell_type": "code",
      "source": [
        "#step2:Create a list (lst2) starting at one (1) with 16 elements at a step of Y\n",
        "y=int(input())\n",
        "stop2=(16*y)+1\n",
        "lst2=np.arange(1,stop2,y)\n",
        "print(\"lst2: \",lst2)\n"
      ],
      "metadata": {
        "colab": {
          "base_uri": "https://localhost:8080/"
        },
        "id": "WN6lgtDV1tmN",
        "outputId": "e9516dbb-fca7-49e9-fb2b-caa1ee91f977"
      },
      "execution_count": 80,
      "outputs": [
        {
          "output_type": "stream",
          "name": "stdout",
          "text": [
            "9\n",
            "lst2:  [  1  10  19  28  37  46  55  64  73  82  91 100 109 118 127 136]\n"
          ]
        }
      ]
    },
    {
      "cell_type": "code",
      "source": [
        "#step3:Create two NumPy arrays np1 and np2 using lst1 and lst2 respectively\n",
        "#step4.Reshape both the NumPy arrays to (4,4)\n",
        "np1=np.array(lst1).reshape(4,4)\n",
        "np2=np.array(lst2).reshape(4,4)\n",
        "print(\"np1:  \\n\",np1)\n",
        "print(\"np2:  \\n\",np2)"
      ],
      "metadata": {
        "colab": {
          "base_uri": "https://localhost:8080/"
        },
        "id": "zaw4Ql512LZ8",
        "outputId": "965a4408-4d6c-4032-9d9b-b7ab152c5705"
      },
      "execution_count": 85,
      "outputs": [
        {
          "output_type": "stream",
          "name": "stdout",
          "text": [
            "np1:  \n",
            " [[  1   8  15  22]\n",
            " [ 29  36  43  50]\n",
            " [ 57  64  71  78]\n",
            " [ 85  92  99 106]]\n",
            "np2:  \n",
            " [[  1  10  19  28]\n",
            " [ 37  46  55  64]\n",
            " [ 73  82  91 100]\n",
            " [109 118 127 136]]\n"
          ]
        }
      ]
    },
    {
      "cell_type": "code",
      "source": [
        "#step5:5.Create a new np array (np3) with values obtained by subtracting both the arrays (np1 -np2)\n",
        "np3=np1-np2\n",
        "print(\"np3:  \\n\",np3)"
      ],
      "metadata": {
        "colab": {
          "base_uri": "https://localhost:8080/"
        },
        "id": "8tw_GKy03aSQ",
        "outputId": "e98bba78-7758-4ebc-a901-98fda5cb521e"
      },
      "execution_count": 87,
      "outputs": [
        {
          "output_type": "stream",
          "name": "stdout",
          "text": [
            "np3:  \n",
            " [[  0  -2  -4  -6]\n",
            " [ -8 -10 -12 -14]\n",
            " [-16 -18 -20 -22]\n",
            " [-24 -26 -28 -30]]\n"
          ]
        }
      ]
    },
    {
      "cell_type": "code",
      "source": [
        "#step6:6.Print all the elements of np3 in a single dimension \n",
        "np3=np3.reshape(1,16)\n",
        "print(np3)"
      ],
      "metadata": {
        "colab": {
          "base_uri": "https://localhost:8080/"
        },
        "id": "AnELftP84BgY",
        "outputId": "63d8f8b1-5570-4077-8f88-4755fd260b0e"
      },
      "execution_count": 94,
      "outputs": [
        {
          "output_type": "stream",
          "name": "stdout",
          "text": [
            "[[  0  -2  -4  -6  -8 -10 -12 -14 -16 -18 -20 -22 -24 -26 -28 -30]]\n"
          ]
        }
      ]
    },
    {
      "cell_type": "markdown",
      "source": [
        "#Problem Statement4: Write a Python program thattakes two integer-NumPy arrays, P and Q of shape[3*3] and perform the following task:\n",
        "Task to be performed:\n",
        "Print the element-wise difference of the matrix Pand Q (P−Q).\n",
        "P=[23,56,87,3,6,96,4,6,78]\n",
        "Q=[12,34,54,7,2,54,6,2,78]"
      ],
      "metadata": {
        "id": "vbEeKWJz7fZk"
      }
    },
    {
      "cell_type": "code",
      "source": [
        "P=[23,56,87,3,6,96,4,6,78]\n",
        "Q=[12,34,54,7,2,54,6,2,78]\n",
        "P=np.array(P)\n",
        "Q=np.array(Q)\n",
        "P=P.reshape(3,3)\n",
        "Q=Q.reshape(3,3)\n",
        "print(\"P: \\n\",P)\n",
        "print(\"Q: \\n\",Q)\n",
        "print(\"diffrence of the matrix P&Q: \\n\",P-Q)"
      ],
      "metadata": {
        "colab": {
          "base_uri": "https://localhost:8080/"
        },
        "id": "n04ZKZ1E-ME6",
        "outputId": "bd00b120-49d0-4e33-a942-16c450931d6d"
      },
      "execution_count": 100,
      "outputs": [
        {
          "output_type": "stream",
          "name": "stdout",
          "text": [
            "P: \n",
            " [[23 56 87]\n",
            " [ 3  6 96]\n",
            " [ 4  6 78]]\n",
            "Q: \n",
            " [[12 34 54]\n",
            " [ 7  2 54]\n",
            " [ 6  2 78]]\n",
            "diffrence of the matrix P&Q: \n",
            " [[11 22 33]\n",
            " [-4  4 42]\n",
            " [-2  4  0]]\n"
          ]
        }
      ]
    }
  ]
}